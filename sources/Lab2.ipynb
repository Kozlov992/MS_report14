{
 "cells": [
  {
   "cell_type": "markdown",
   "metadata": {},
   "source": [
    "# Лабораторная 2"
   ]
  },
  {
   "cell_type": "code",
   "execution_count": 4,
   "metadata": {},
   "outputs": [],
   "source": [
    "from scipy.stats import norm, cauchy, laplace, poisson, uniform\n",
    "import numpy as np\n",
    "import csv"
   ]
  },
  {
   "cell_type": "markdown",
   "metadata": {},
   "source": [
    "Выборочное среднее $\\left(\\displaystyle\\overline{x}=\\frac{1}{n}\\sum_{i=1}^n x_i\\right)$:"
   ]
  },
  {
   "cell_type": "code",
   "execution_count": 7,
   "metadata": {},
   "outputs": [],
   "source": [
    "def sample_mean(sample):\n",
    "    return np.mean(sample)"
   ]
  },
  {
   "cell_type": "markdown",
   "metadata": {},
   "source": [
    " "
   ]
  },
  {
   "cell_type": "markdown",
   "metadata": {},
   "source": [
    "Выборочная медиана $\\left(\\displaystyle med\\,x = \\begin{cases}\n",
    "        \\displaystyle\\;\\;\\;\\;\\;x_{(l+1)}&\\text{при}\\;\\;n=2l+1\\\\\n",
    "        \\displaystyle\\frac{x_{(l)}+x_{(l+1)}}{2}&\\text{при}\\;\\;n=2l\n",
    "        \\end{cases}\\right)$:"
   ]
  },
  {
   "cell_type": "code",
   "execution_count": 8,
   "metadata": {},
   "outputs": [],
   "source": [
    "def sample_median(sample):\n",
    "    return np.median(sample)"
   ]
  },
  {
   "cell_type": "markdown",
   "metadata": {},
   "source": [
    " "
   ]
  },
  {
   "cell_type": "markdown",
   "metadata": {},
   "source": [
    "Полусумма экстремальных выборочных элементов $\\left(\\displaystyle z_R=\\frac{x_{(1)}+x_{(n)}}{2}\\right)$:"
   ]
  },
  {
   "cell_type": "code",
   "execution_count": 9,
   "metadata": {},
   "outputs": [],
   "source": [
    "def z_R(variational_series):\n",
    "    return (variational_series[0] + variational_series[variational_series.size - 1]) / 2"
   ]
  },
  {
   "cell_type": "markdown",
   "metadata": {},
   "source": [
    " "
   ]
  },
  {
   "cell_type": "markdown",
   "metadata": {},
   "source": [
    "Выборочный квартиль $z_p$ порядка $p$ $\\left(\\displaystyle z_p = \\begin{cases}\\label{pqv}\n",
    "        \\displaystyle\\;\\;x_{([np]+1)}&\\text{при}\\;\\;np\\;\\text{дробном,}\\\\\n",
    "        \\displaystyle\\;\\;\\;\\;\\;x_{(np)}&\\text{при}\\;\\;np\\;\\text{целом}\n",
    "        \\end{cases}\\right)$:"
   ]
  },
  {
   "cell_type": "code",
   "execution_count": 10,
   "metadata": {},
   "outputs": [],
   "source": [
    "def z_p(variational_series, p):\n",
    "    pn = p * variational_series.size\n",
    "    if (pn == int(pn)):\n",
    "        return variational_series[int(pn)]\n",
    "    return variational_series[int(pn) + 1]"
   ]
  },
  {
   "cell_type": "markdown",
   "metadata": {},
   "source": [
    " "
   ]
  },
  {
   "cell_type": "markdown",
   "metadata": {},
   "source": [
    "Полусумма квартилей $\\left(\\displaystyle z_Q=\\frac{z_{1/4}+z_{3/4}}{2}\\right)$:"
   ]
  },
  {
   "cell_type": "code",
   "execution_count": 11,
   "metadata": {},
   "outputs": [],
   "source": [
    "def z_Q(variational_series):\n",
    "    return (z_p(variational_series, 1/4) + z_p(variational_series, 3/4)) / 2"
   ]
  },
  {
   "cell_type": "markdown",
   "metadata": {},
   "source": [
    " "
   ]
  },
  {
   "cell_type": "markdown",
   "metadata": {},
   "source": [
    "Усечённое среднее $\\left(\\displaystyle z_{tr}=\\frac{1}{n-2r}\\sum_{i=r+1}^{n-r}x_{(i)},\\;\\;r\\approx\\frac{n}{4}\\right)$:"
   ]
  },
  {
   "cell_type": "code",
   "execution_count": 12,
   "metadata": {},
   "outputs": [],
   "source": [
    "def trim_mean(variational_series):\n",
    "    n = variational_series.size\n",
    "    r = int(n/4)\n",
    "    sum = 0.\n",
    "    for i in range(r + 1, n - r + 1):\n",
    "        sum += variational_series[i]\n",
    "    return sum / (n - 2*r)"
   ]
  },
  {
   "cell_type": "markdown",
   "metadata": {},
   "source": [
    " "
   ]
  },
  {
   "cell_type": "markdown",
   "metadata": {},
   "source": [
    "Выборочная дисперсия $\\left(\\displaystyle D=\\frac{1}{n}\\sum_{i=1}^n \\left(x_i-\\overline{x}\\right)^2\\right)$:"
   ]
  },
  {
   "cell_type": "code",
   "execution_count": 13,
   "metadata": {},
   "outputs": [],
   "source": [
    "def sample_variance(sample):\n",
    "    return np.std(sample)**2"
   ]
  },
  {
   "cell_type": "markdown",
   "metadata": {},
   "source": [
    "Оценка $E$:"
   ]
  },
  {
   "cell_type": "code",
   "execution_count": 5,
   "metadata": {},
   "outputs": [],
   "source": [
    " def mean_estimation(E,D):\n",
    "        return E - D ** 0.5, E + D ** 0.5"
   ]
  },
  {
   "cell_type": "code",
   "execution_count": 22,
   "metadata": {},
   "outputs": [
    {
     "name": "stdout",
     "output_type": "stream",
     "text": [
      "(-0.33621359549995794, 0.558213595499958)\n"
     ]
    }
   ],
   "source": [
    "print(mean_estimation(0.111,0.2))"
   ]
  },
  {
   "cell_type": "code",
   "execution_count": 3,
   "metadata": {},
   "outputs": [],
   "source": [
    "number_of_experiments = 1000\n",
    "units = [10, 100, 1000]"
   ]
  },
  {
   "cell_type": "markdown",
   "metadata": {},
   "source": [
    "Нормальное распределение $\\left(f(x)=\\displaystyle\\frac{e^{-x^2/2}}{\\sqrt{2\\pi}}\\right)$:"
   ]
  },
  {
   "cell_type": "code",
   "execution_count": 53,
   "metadata": {
    "scrolled": true
   },
   "outputs": [
    {
     "name": "stdout",
     "output_type": "stream",
     "text": [
      "[0.00116, 0.006212, -0.009496, 0.32067, 0.28032]\n",
      "[0.104555, 0.143065, 0.187496, 0.126559, 0.122866]\n",
      "[[-0.32219, 0.32451], [-0.372027, 0.384451], [-0.442504, 0.423512], [-0.035081, 0.676421], [-0.070202, 0.630842]]\n",
      "\n",
      "\n",
      "[0.001992, -0.000898, -0.009645, 0.020634, 0.029004]\n",
      "[0.010203, 0.014982, 0.0945, 0.012548, 0.012134]\n",
      "[[-0.099018, 0.103002], [-0.123299, 0.121503], [-0.317054, 0.297764], [-0.091384, 0.132652], [-0.08115, 0.139158]]\n",
      "\n",
      "\n",
      "[0.001188, 0.001011, -0.005252, 0.003476, 0.003829]\n",
      "[0.001047, 0.001673, 0.063946, 0.001309, 0.001279]\n",
      "[[-0.031169, 0.033545], [-0.039891, 0.041913], [-0.258127, 0.247623], [-0.032704, 0.039656], [-0.031934, 0.039592]]\n",
      "\n",
      "\n"
     ]
    }
   ],
   "source": [
    "E = []\n",
    "D = []\n",
    "E_est = []\n",
    "for u_num in units:\n",
    "    samples_means = []\n",
    "    samples_medians = []\n",
    "    samples_z_Rs = []\n",
    "    samples_z_Qs = []\n",
    "    samples_z_trs = []\n",
    "    for i in range(number_of_experiments):\n",
    "        sample = norm.rvs(scale=1, loc=0, size= u_num)\n",
    "        samples_means.append(sample_mean(sample))\n",
    "        samples_medians.append(sample_median(sample))\n",
    "        sample.sort()\n",
    "        samples_z_Rs.append(z_R(sample))\n",
    "        samples_z_Qs.append(z_Q(sample))\n",
    "        samples_z_trs.append(trim_mean(sample))\n",
    "    val_lists = [samples_means, samples_medians, samples_z_Rs, samples_z_Qs, samples_z_trs]\n",
    "    E_s = [round(sample_mean(val_list), 6) for val_list in val_lists]\n",
    "    D_s = [round(sample_variance(val_list), 6) for val_list in val_lists]\n",
    "    E_est_s = [mean_estimation(E_s[i], D_s[i]) for i in range(len(val_lists))]\n",
    "    E_est_s = [[round(E_est_s[i][0],6), round(E_est_s[i][1],6)] for i in range(len(val_lists))]\n",
    "    print(E_s)\n",
    "    print(D_s)\n",
    "    print(E_est_s)\n",
    "    print('\\n')\n",
    "    E.append(E_s)\n",
    "    D.append(D_s)\n",
    "    E_est.append(E_est_s)\n",
    "#Создание таблицы \n",
    "with open('normalChs.tex','w', newline = '') as f:\n",
    "    writer = csv.writer(f, delimiter = '&')\n",
    "    filler_row = [\" \" for j in range(5)]\n",
    "    filler_row.append(r\" \\\\\")\n",
    "    hline = \"\\hline\\n\"\n",
    "    for i in range(3):\n",
    "        row_1 = [\" \" for j in range(4)]\n",
    "        row_1.append(r\" \\\\\")\n",
    "        row_1.insert(0, \"Normal $n$ = \" + str(units[i]))\n",
    "        writer.writerow(row_1)\n",
    "        if i == 0:\n",
    "            row_2 = [\" \", \"$\\overline{x}\\;\\eqref{mean}$\", \"$med\\;x\\;\\eqref{med}$\", \"$z_R\\;\\eqref{exhfsum}$\",\n",
    "                \"$z_Q\\;\\eqref{hfsum}$\", r\"$z_{tr}\\;\\eqref{trmean}$\\\\\"]\n",
    "        else:\n",
    "            row_2 = [\" \", \"$\\overline{x}$\", \"$med\\;x$\", \"$z_R$\",\n",
    "                \"$z_Q$\", r\"$z_{tr}$\\\\\"]\n",
    "        f.write(hline)    \n",
    "        writer.writerow(row_2)\n",
    "        E[i][len(E[i]) - 1] = str(E[i][len(E[i]) - 1]) + r\"\\\\\"\n",
    "        if i == 0:\n",
    "            str_to_ins = \"$E(z)\\;\\eqref{mean_formula}$\"\n",
    "        else:\n",
    "            str_to_ins = \"$E(z)$\"\n",
    "        E[i].insert(0, str_to_ins)\n",
    "        f.write(hline)\n",
    "        writer.writerow(E[i])\n",
    "        if i == 0:\n",
    "            str_to_ins = \"$D(z)\\;\\eqref{variance_formula}$\"\n",
    "        else:\n",
    "            str_to_ins = \"$D(z)$\"\n",
    "        D[i][len(D[i]) - 1] = str(D[i][len(D[i]) - 1]) + r\"\\\\\"\n",
    "        D[i].insert(0, str_to_ins)\n",
    "        f.write(hline)\n",
    "        writer.writerow(D[i])\n",
    "        if i == 0:\n",
    "            str_to_ins = \"$E(z)\\pm\\sqrt{D(z)}\\;\\eqref{confint}$\"\n",
    "        else:\n",
    "            str_to_ins = \"$E(z)\\pm\\sqrt{D(z)}$\"\n",
    "        E_est[i] = [\"(\" + str(E_est[i][j][0]) + r\",\\newline\" + str(E_est[i][j][1]) + \")\" for j in range(len(E_est[i]))]\n",
    "        replacement = E_est[i][len(E_est[i]) - 1] + r\"\\\\\"\n",
    "        E_est[i].pop(len(E_est[i]) - 1)\n",
    "        E_est[i].append(replacement)\n",
    "        E_est[i].insert(0, str_to_ins)\n",
    "        f.write(hline)\n",
    "        writer.writerow(E_est[i])\n",
    "        if (i != 2):\n",
    "            f.write(hline)\n",
    "            writer.writerow(filler_row)\n",
    "        f.write(hline)"
   ]
  },
  {
   "cell_type": "markdown",
   "metadata": {},
   "source": [
    " "
   ]
  },
  {
   "cell_type": "markdown",
   "metadata": {},
   "source": [
    "Функция создания таблиц:"
   ]
  },
  {
   "cell_type": "code",
   "execution_count": 43,
   "metadata": {},
   "outputs": [],
   "source": [
    "def create_table(E, D, distribution_name, E_est, undefined_mean=False, undefined_z_r=False):\n",
    "    with open(distribution_name + 'Chs.tex','w', newline = '') as f:\n",
    "        writer = csv.writer(f, delimiter = '&')\n",
    "        filler_row = [\" \" for j in range(5)]\n",
    "        filler_row.append(r\" \\\\\")\n",
    "        hline = \"\\hline\\n\"\n",
    "        for i in range(3):\n",
    "            row_1 = [\" \" for j in range(4)]\n",
    "            row_1.append(r\" \\\\\")\n",
    "            row_1.insert(0, distribution_name + \" $n$ = \" + str(units[i]))\n",
    "            writer.writerow(row_1)\n",
    "            row_2 = [\" \", \"$\\overline{x}$\", \"$med\\;x$\", \"$z_R$\",\n",
    "                    \"$z_Q$\", r\"$z_{tr}$\\\\\"]\n",
    "            f.write(hline)    \n",
    "            writer.writerow(row_2)\n",
    "            E[i][len(E[i]) - 1] = str(E[i][len(E[i]) - 1]) + r\"\\\\\"\n",
    "            str_to_ins = \"$E(z)$\"\n",
    "            E[i].insert(0, str_to_ins)\n",
    "            f.write(hline)\n",
    "            writer.writerow(E[i])\n",
    "            str_to_ins = \"$D(z)$\"\n",
    "            D[i][len(D[i]) - 1] = str(D[i][len(D[i]) - 1]) + r\"\\\\\"\n",
    "            D[i].insert(0, str_to_ins)\n",
    "            f.write(hline)\n",
    "            writer.writerow(D[i])\n",
    "            str_to_ins = \"$E(z)\\pm\\sqrt{D(z)}$\"\n",
    "            E_est[i] = [\"(\" + str(E_est[i][j][0]) + r\",\\newline\" + str(E_est[i][j][1]) + \")\" for j in range(len(E_est[i]))]\n",
    "            replacement = E_est[i][len(E_est[i]) - 1] + r\"\\\\\"\n",
    "            E_est[i].pop(len(E_est[i]) - 1)\n",
    "            E_est[i].append(replacement)\n",
    "            E_est[i].insert(0, str_to_ins)\n",
    "            if undefined_mean:\n",
    "                E_est[i].pop(1)\n",
    "                E_est[i].insert(1,\"$-$\")\n",
    "            if undefined_z_r:\n",
    "                E_est[i].pop(3)\n",
    "                E_est[i].insert(3,\"$-$\")\n",
    "            f.write(hline)\n",
    "            writer.writerow(E_est[i])\n",
    "            if i != 2:\n",
    "                f.write(hline)\n",
    "                writer.writerow(filler_row)\n",
    "            f.write(hline)"
   ]
  },
  {
   "cell_type": "markdown",
   "metadata": {},
   "source": [
    " "
   ]
  },
  {
   "cell_type": "markdown",
   "metadata": {},
   "source": [
    "Распределение Коши $\\left(f(x)=\\displaystyle\\frac{1}{\\pi}\\frac{1}{x^2+1}\\right)$:"
   ]
  },
  {
   "cell_type": "code",
   "execution_count": 54,
   "metadata": {},
   "outputs": [
    {
     "name": "stdout",
     "output_type": "stream",
     "text": [
      "[-0.186885, -0.009058, -0.998813, 1.107276, 0.665645]\n",
      "[1220.240065, 0.341225, 30330.057683, 4.39764, 1.125819]\n",
      "[[-35.11882, 34.74505], [-0.593203, 0.575087], [-175.154082, 173.156456], [-0.989779, 3.204331], [-0.395401, 1.726691]]\n",
      "\n",
      "\n",
      "[-6.47775, -0.000383, -321.139156, 0.026871, 0.037994]\n",
      "[18984.933645, 0.024235, 47380510.140515, 0.050965, 0.025928]\n",
      "[[-144.263575, 131.308075], [-0.156059, 0.155293], [-7204.489368, 6562.211056], [-0.198883, 0.252625], [-0.123028, 0.199016]]\n",
      "\n",
      "\n",
      "[1.893899, -0.000693, 960.679479, 0.001362, 0.003282]\n",
      "[3931.774685, 0.00253, 981622889.069576, 0.005259, 0.002648]\n",
      "[[-60.809966, 64.597764], [-0.050992, 0.049606], [-30370.182129, 32291.541087], [-0.071157, 0.073881], [-0.048177, 0.054741]]\n",
      "\n",
      "\n"
     ]
    }
   ],
   "source": [
    "E = []\n",
    "D = []\n",
    "E_est = []\n",
    "for u_num in units:\n",
    "    samples_means = []\n",
    "    samples_medians = []\n",
    "    samples_z_Rs = []\n",
    "    samples_z_Qs = []\n",
    "    samples_z_trs = []\n",
    "    for i in range(number_of_experiments):\n",
    "        sample = cauchy.rvs(scale=1, loc=0, size=u_num)\n",
    "        samples_means.append(sample_mean(sample))\n",
    "        samples_medians.append(sample_median(sample))\n",
    "        sample.sort()\n",
    "        samples_z_Rs.append(z_R(sample))\n",
    "        samples_z_Qs.append(z_Q(sample))\n",
    "        samples_z_trs.append(trim_mean(sample))\n",
    "    val_lists = [samples_means, samples_medians, samples_z_Rs, samples_z_Qs, samples_z_trs]\n",
    "    E_s = [round(sample_mean(val_list), 6) for val_list in val_lists]\n",
    "    D_s = [round(sample_variance(val_list), 6) for val_list in val_lists]\n",
    "    E_est_s = [mean_estimation(E_s[i], D_s[i]) for i in range(len(val_lists))]\n",
    "    E_est_s = [[round(E_est_s[i][0],6), round(E_est_s[i][1],6)] for i in range(len(val_lists))]\n",
    "    print(E_s)\n",
    "    print(D_s)\n",
    "    print(E_est_s)\n",
    "    print('\\n')\n",
    "    E.append(E_s)\n",
    "    D.append(D_s)\n",
    "    E_est.append(E_est_s)\n",
    "create_table(E, D, 'Cauchy', E_est, undefined_mean=True, undefined_z_r=True)"
   ]
  },
  {
   "cell_type": "markdown",
   "metadata": {},
   "source": [
    " "
   ]
  },
  {
   "cell_type": "markdown",
   "metadata": {},
   "source": [
    "Распределение Лапласа $\\left(f(x)=\\displaystyle\\frac{1}{\\sqrt{2}}e^{-\\sqrt{2}|x|}\\right)$:"
   ]
  },
  {
   "cell_type": "code",
   "execution_count": 55,
   "metadata": {},
   "outputs": [
    {
     "name": "stdout",
     "output_type": "stream",
     "text": [
      "[-0.009415, -0.012622, -0.024343, 0.300827, 0.227097]\n",
      "[0.102728, 0.072915, 0.430623, 0.118063, 0.081524]\n",
      "[[-0.329927, 0.311097], [-0.28265, 0.257406], [-0.680562, 0.631876], [-0.042776, 0.64443], [-0.058427, 0.512621]]\n",
      "\n",
      "\n",
      "[0.00684, 0.005635, 0.029287, 0.019885, 0.024766]\n",
      "[0.010063, 0.006018, 0.401845, 0.010201, 0.006588]\n",
      "[[-0.093475, 0.107155], [-0.071941, 0.083211], [-0.604625, 0.663199], [-0.081115, 0.120885], [-0.0564, 0.105932]]\n",
      "\n",
      "\n",
      "[-0.00239, -0.000474, -0.034909, -0.000289, 0.000806]\n",
      "[0.001037, 0.000503, 0.387083, 0.001029, 0.000606]\n",
      "[[-0.034592, 0.029812], [-0.022902, 0.021954], [-0.657069, 0.587251], [-0.032367, 0.031789], [-0.023811, 0.025423]]\n",
      "\n",
      "\n"
     ]
    }
   ],
   "source": [
    "E = []\n",
    "D = []\n",
    "E_est = []\n",
    "for u_num in units:\n",
    "    samples_means = []\n",
    "    samples_medians = []\n",
    "    samples_z_Rs = []\n",
    "    samples_z_Qs = []\n",
    "    samples_z_trs = []\n",
    "    for i in range(number_of_experiments):\n",
    "        sample = laplace.rvs(scale=2 ** (-0.5), loc=0, size=u_num)\n",
    "        samples_means.append(sample_mean(sample))\n",
    "        samples_medians.append(sample_median(sample))\n",
    "        sample.sort()\n",
    "        samples_z_Rs.append(z_R(sample))\n",
    "        samples_z_Qs.append(z_Q(sample))\n",
    "        samples_z_trs.append(trim_mean(sample))\n",
    "    val_lists = [samples_means, samples_medians, samples_z_Rs, samples_z_Qs, samples_z_trs]\n",
    "    E_s = [round(sample_mean(val_list), 6) for val_list in val_lists]\n",
    "    D_s = [round(sample_variance(val_list), 6) for val_list in val_lists]\n",
    "    E_est_s = [mean_estimation(E_s[i], D_s[i]) for i in range(len(val_lists))]\n",
    "    E_est_s = [[round(E_est_s[i][0],6), round(E_est_s[i][1],6)] for i in range(len(val_lists))]\n",
    "    print(E_s)\n",
    "    print(D_s)\n",
    "    print(E_est_s)\n",
    "    print('\\n')\n",
    "    E.append(E_s)\n",
    "    D.append(D_s)\n",
    "    E_est.append(E_est_s)\n",
    "create_table(E, D, 'Laplace', E_est)"
   ]
  },
  {
   "cell_type": "markdown",
   "metadata": {},
   "source": [
    " "
   ]
  },
  {
   "cell_type": "markdown",
   "metadata": {},
   "source": [
    "Распределение Пуассона $\\left(p(k)=\\displaystyle\\frac{10^k}{k!}e^{-10}\\right)$:"
   ]
  },
  {
   "cell_type": "code",
   "execution_count": 56,
   "metadata": {},
   "outputs": [
    {
     "name": "stdout",
     "output_type": "stream",
     "text": [
      "[9.994, 9.8345, 10.32, 10.9715, 10.7695]\n",
      "[1.052584, 1.46836, 1.9546, 1.385938, 1.281564]\n",
      "[[8.968045, 11.019955], [8.622741, 11.046259], [8.92193, 11.71807], [9.794241, 12.148759], [9.637438, 11.901562]]\n",
      "\n",
      "\n",
      "[10.00871, 9.8785, 10.933, 9.9665, 9.95862]\n",
      "[0.100729, 0.202488, 1.077011, 0.151628, 0.118006]\n",
      "[[9.691332, 10.326088], [9.428513, 10.328487], [9.895209, 11.970791], [9.577106, 10.355894], [9.6151, 10.30214]]\n",
      "\n",
      "\n",
      "[10.005459, 9.999, 11.714, 9.9975, 9.870534]\n",
      "[0.010818, 0.000999, 0.699704, 0.002244, 0.011732]\n",
      "[[9.901449, 10.109469], [9.967393, 10.030607], [10.877517, 12.550483], [9.950129, 10.044871], [9.76222, 9.978848]]\n",
      "\n",
      "\n"
     ]
    }
   ],
   "source": [
    "E = []\n",
    "D = []\n",
    "E_est = []\n",
    "for u_num in units:\n",
    "    samples_means = []\n",
    "    samples_medians = []\n",
    "    samples_z_Rs = []\n",
    "    samples_z_Qs = []\n",
    "    samples_z_trs = []\n",
    "    for i in range(number_of_experiments):\n",
    "        sample = poisson.rvs(10, size=u_num)\n",
    "        samples_means.append(sample_mean(sample))\n",
    "        samples_medians.append(sample_median(sample))\n",
    "        sample.sort()\n",
    "        samples_z_Rs.append(z_R(sample))\n",
    "        samples_z_Qs.append(z_Q(sample))\n",
    "        samples_z_trs.append(trim_mean(sample))\n",
    "    val_lists = [samples_means, samples_medians, samples_z_Rs, samples_z_Qs, samples_z_trs]\n",
    "    E_s = [round(sample_mean(val_list), 6) for val_list in val_lists]\n",
    "    D_s = [round(sample_variance(val_list), 6) for val_list in val_lists]\n",
    "    E_est_s = [mean_estimation(E_s[i], D_s[i]) for i in range(len(val_lists))]\n",
    "    E_est_s = [[round(E_est_s[i][0],6), round(E_est_s[i][1],6)] for i in range(len(val_lists))]\n",
    "    print(E_s)\n",
    "    print(D_s)\n",
    "    print(E_est_s)\n",
    "    print('\\n')\n",
    "    E.append(E_s)\n",
    "    D.append(D_s)\n",
    "    E_est.append(E_est_s)\n",
    "create_table(E, D, 'Poisson', E_est)"
   ]
  },
  {
   "cell_type": "markdown",
   "metadata": {},
   "source": [
    " "
   ]
  },
  {
   "cell_type": "markdown",
   "metadata": {},
   "source": [
    "Равномерное распределение $\\left(f(x)=\\begin{cases}\n",
    "        \\displaystyle\\frac{1}{2\\sqrt{3}}&\\text{при}\\;\\;|x|\\:\\leq\\sqrt{3}\\\\\n",
    "        \\;\\;\\;0&\\text{при}\\;\\;|x|\\:>\\sqrt{3}\\\\\n",
    "        \\end{cases}\\right)$:"
   ]
  },
  {
   "cell_type": "code",
   "execution_count": 57,
   "metadata": {},
   "outputs": [
    {
     "name": "stdout",
     "output_type": "stream",
     "text": [
      "[0.00987, 0.007138, 0.013105, 0.324796, 0.324069]\n",
      "[0.103187, 0.230005, 0.046384, 0.131897, 0.154831]\n",
      "[[-0.311357, 0.331097], [-0.47245, 0.486726], [-0.202264, 0.228474], [-0.03838, 0.687972], [-0.069417, 0.717555]]\n",
      "\n",
      "\n",
      "[-0.002077, -0.001152, 0.000943, 0.014305, 0.030867]\n",
      "[0.009315, 0.027453, 0.000563, 0.013355, 0.017855]\n",
      "[[-0.098591, 0.094437], [-0.166841, 0.164537], [-0.022785, 0.024671], [-0.101259, 0.129869], [-0.102756, 0.16449]]\n",
      "\n",
      "\n",
      "[0.000581, 0.001917, 2e-05, 0.002004, 0.005029]\n",
      "[0.000994, 0.002952, 6e-06, 0.001484, 0.001998]\n",
      "[[-0.030947, 0.032109], [-0.052415, 0.056249], [-0.002429, 0.002469], [-0.036519, 0.040527], [-0.03967, 0.049728]]\n",
      "\n",
      "\n"
     ]
    }
   ],
   "source": [
    "E = []\n",
    "D = []\n",
    "E_est = []\n",
    "for u_num in units:\n",
    "    samples_means = []\n",
    "    samples_medians = []\n",
    "    samples_z_Rs = []\n",
    "    samples_z_Qs = []\n",
    "    samples_z_trs = []\n",
    "    for i in range(number_of_experiments):\n",
    "        sample = uniform.rvs(loc=-3**0.5, scale=2*3**0.5,size=u_num)\n",
    "        samples_means.append(sample_mean(sample))\n",
    "        samples_medians.append(sample_median(sample))\n",
    "        sample.sort()\n",
    "        samples_z_Rs.append(z_R(sample))\n",
    "        samples_z_Qs.append(z_Q(sample))\n",
    "        samples_z_trs.append(trim_mean(sample))\n",
    "    val_lists = [samples_means, samples_medians, samples_z_Rs, samples_z_Qs, samples_z_trs]\n",
    "    E_s = [round(sample_mean(val_list), 6) for val_list in val_lists]\n",
    "    D_s = [round(sample_variance(val_list), 6) for val_list in val_lists]\n",
    "    E_est_s = [mean_estimation(E_s[i], D_s[i]) for i in range(len(val_lists))]\n",
    "    E_est_s = [[round(E_est_s[i][0],6), round(E_est_s[i][1],6)] for i in range(len(val_lists))]\n",
    "    print(E_s)\n",
    "    print(D_s)\n",
    "    print(E_est_s)\n",
    "    print('\\n')\n",
    "    E.append(E_s)\n",
    "    D.append(D_s)\n",
    "    E_est.append(E_est_s)\n",
    "create_table(E, D, 'Uniform', E_est)"
   ]
  },
  {
   "cell_type": "code",
   "execution_count": null,
   "metadata": {},
   "outputs": [],
   "source": []
  }
 ],
 "metadata": {
  "kernelspec": {
   "display_name": "Python 3",
   "language": "python",
   "name": "python3"
  },
  "language_info": {
   "codemirror_mode": {
    "name": "ipython",
    "version": 3
   },
   "file_extension": ".py",
   "mimetype": "text/x-python",
   "name": "python",
   "nbconvert_exporter": "python",
   "pygments_lexer": "ipython3",
   "version": "3.8.5"
  }
 },
 "nbformat": 4,
 "nbformat_minor": 4
}
